{
  "nbformat": 4,
  "nbformat_minor": 0,
  "metadata": {
    "colab": {
      "provenance": [],
      "authorship_tag": "ABX9TyN2A/XGRL5BI1flzdVEYdC7",
      "include_colab_link": true
    },
    "kernelspec": {
      "name": "python3",
      "display_name": "Python 3"
    },
    "language_info": {
      "name": "python"
    }
  },
  "cells": [
    {
      "cell_type": "markdown",
      "metadata": {
        "id": "view-in-github",
        "colab_type": "text"
      },
      "source": [
        "<a href=\"https://colab.research.google.com/github/Arkaa45/PrakSIsMOD/blob/main/Pangsa_Mi_Instan(RakaGemilang).ipynb\" target=\"_parent\"><img src=\"https://colab.research.google.com/assets/colab-badge.svg\" alt=\"Open In Colab\"/></a>"
      ]
    },
    {
      "cell_type": "markdown",
      "source": [
        "Membuat program python untuk menganalisa Market Share (Pangsa Pasar) Mi Instan Indomie dan Mi Gaga menggunakan Analisa Markov Chain"
      ],
      "metadata": {
        "id": "bY1Jo3fnSquM"
      }
    },
    {
      "cell_type": "markdown",
      "source": [
        "diketahui:"
      ],
      "metadata": {
        "id": "YfjWEFRaUXEG"
      }
    },
    {
      "cell_type": "code",
      "source": [
        "from numpy import *\n",
        "from matplotlib.pyplot import *\n",
        "from IPython.display import Math\n",
        "import sympy as sym\n",
        "from numpy.linalg import *\n",
        "\n",
        "MK = array([[0.571, 0.398, 0.031],\n",
        "           [0.467, 0.500, 0.033],\n",
        "           [0.571, 0.143, 0.286]])\n",
        "print(\"Matriks Transisi Probabilitas=\")\n",
        "display(Math(sym.latex(sym.simplify(MK))))"
      ],
      "metadata": {
        "colab": {
          "base_uri": "https://localhost:8080/",
          "height": 95
        },
        "id": "FkNWOkQVUmOb",
        "outputId": "5ba6b46f-0955-4bf2-d0b2-03d910158450"
      },
      "execution_count": 4,
      "outputs": [
        {
          "output_type": "stream",
          "name": "stdout",
          "text": [
            "Matriks Transisi Probabilitas=\n"
          ]
        },
        {
          "output_type": "display_data",
          "data": {
            "text/plain": [
              "<IPython.core.display.Math object>"
            ],
            "text/latex": "$\\displaystyle \\left[\\begin{matrix}0.571 & 0.398 & 0.031\\\\0.467 & 0.5 & 0.033\\\\0.571 & 0.143 & 0.286\\end{matrix}\\right]$"
          },
          "metadata": {}
        }
      ]
    },
    {
      "cell_type": "markdown",
      "source": [
        "dengan keadaan awal sebagai berikut:"
      ],
      "metadata": {
        "id": "SclTx98vWCL4"
      }
    },
    {
      "cell_type": "code",
      "source": [
        "MK0 = array([0.54, 0.41, 0.05])\n",
        "print(\"Matriks MK0=\")\n",
        "display(Math(sym.latex(sym.simplify(MK0))))"
      ],
      "metadata": {
        "colab": {
          "base_uri": "https://localhost:8080/",
          "height": 56
        },
        "id": "EVOD6YscVzJW",
        "outputId": "158780e8-6623-4626-b1df-0b3e03efd906"
      },
      "execution_count": 5,
      "outputs": [
        {
          "output_type": "stream",
          "name": "stdout",
          "text": [
            "Matriks MK0=\n"
          ]
        },
        {
          "output_type": "display_data",
          "data": {
            "text/plain": [
              "<IPython.core.display.Math object>"
            ],
            "text/latex": "$\\displaystyle \\left[\\begin{matrix}0.54 & 0.41 & 0.05\\end{matrix}\\right]$"
          },
          "metadata": {}
        }
      ]
    },
    {
      "cell_type": "markdown",
      "source": [
        "hitung prediksi untuk periode selanjutnya"
      ],
      "metadata": {
        "id": "BBfJHsFvW7QO"
      }
    },
    {
      "cell_type": "code",
      "source": [
        "MK1 = dot(MK0, MK)\n",
        "print(\"Periode ke-1 = \")\n",
        "display(Math(sym.latex(sym.simplify(MK1))))"
      ],
      "metadata": {
        "colab": {
          "base_uri": "https://localhost:8080/",
          "height": 56
        },
        "id": "5aSqY1kgXFQs",
        "outputId": "dec7b941-a635-4fc6-972a-338f4c88dedb"
      },
      "execution_count": 6,
      "outputs": [
        {
          "output_type": "stream",
          "name": "stdout",
          "text": [
            "Periode ke-1 = \n"
          ]
        },
        {
          "output_type": "display_data",
          "data": {
            "text/plain": [
              "<IPython.core.display.Math object>"
            ],
            "text/latex": "$\\displaystyle \\left[\\begin{matrix}0.52836 & 0.42707 & 0.04457\\end{matrix}\\right]$"
          },
          "metadata": {}
        }
      ]
    },
    {
      "cell_type": "code",
      "source": [
        "MK2 = dot(MK1, MK)\n",
        "print(\"Periode ke-2 = \")\n",
        "display(Math(sym.latex(sym.simplify(MK2))))"
      ],
      "metadata": {
        "colab": {
          "base_uri": "https://localhost:8080/",
          "height": 56
        },
        "id": "t1oPuXqSXoGU",
        "outputId": "593f9c8b-c16b-4e08-eeb2-d4d884cb41c4"
      },
      "execution_count": 8,
      "outputs": [
        {
          "output_type": "stream",
          "name": "stdout",
          "text": [
            "Periode ke-2 = \n"
          ]
        },
        {
          "output_type": "display_data",
          "data": {
            "text/plain": [
              "<IPython.core.display.Math object>"
            ],
            "text/latex": "$\\displaystyle \\left[\\begin{matrix}0.52658472 & 0.43019579 & 0.04321949\\end{matrix}\\right]$"
          },
          "metadata": {}
        }
      ]
    },
    {
      "cell_type": "code",
      "source": [
        "MK3 = dot(MK2, MK)\n",
        "print(\"Periode ke-3 = \")\n",
        "display(Math(sym.latex(sym.simplify(MK2))))"
      ],
      "metadata": {
        "colab": {
          "base_uri": "https://localhost:8080/",
          "height": 56
        },
        "id": "Dp2r9c_QX9Wb",
        "outputId": "1e980baf-e0a9-4363-dc5c-66306228151a"
      },
      "execution_count": 9,
      "outputs": [
        {
          "output_type": "stream",
          "name": "stdout",
          "text": [
            "Periode ke-3 = \n"
          ]
        },
        {
          "output_type": "display_data",
          "data": {
            "text/plain": [
              "<IPython.core.display.Math object>"
            ],
            "text/latex": "$\\displaystyle \\left[\\begin{matrix}0.52658472 & 0.43019579 & 0.04321949\\end{matrix}\\right]$"
          },
          "metadata": {}
        }
      ]
    },
    {
      "cell_type": "code",
      "source": [
        "MK4 = dot(MK3, MK)\n",
        "print(\"Periode ke-4 = \")\n",
        "display(Math(sym.latex(sym.simplify(MK2))))"
      ],
      "metadata": {
        "colab": {
          "base_uri": "https://localhost:8080/",
          "height": 56
        },
        "id": "E3u3-JW2YPJa",
        "outputId": "7b0d9cca-0c05-4ae0-f1db-59cf8af37391"
      },
      "execution_count": 10,
      "outputs": [
        {
          "output_type": "stream",
          "name": "stdout",
          "text": [
            "Periode ke-4 = \n"
          ]
        },
        {
          "output_type": "display_data",
          "data": {
            "text/plain": [
              "<IPython.core.display.Math object>"
            ],
            "text/latex": "$\\displaystyle \\left[\\begin{matrix}0.52658472 & 0.43019579 & 0.04321949\\end{matrix}\\right]$"
          },
          "metadata": {}
        }
      ]
    },
    {
      "cell_type": "code",
      "source": [
        "MK5 = dot(MK4, MK)\n",
        "print(\"Periode ke-5 = \")\n",
        "display(Math(sym.latex(sym.simplify(MK2))))"
      ],
      "metadata": {
        "colab": {
          "base_uri": "https://localhost:8080/",
          "height": 56
        },
        "id": "Z4m46zFqYV58",
        "outputId": "dac194ae-2772-4d20-994c-50543eab6e3f"
      },
      "execution_count": 11,
      "outputs": [
        {
          "output_type": "stream",
          "name": "stdout",
          "text": [
            "Periode ke-5 = \n"
          ]
        },
        {
          "output_type": "display_data",
          "data": {
            "text/plain": [
              "<IPython.core.display.Math object>"
            ],
            "text/latex": "$\\displaystyle \\left[\\begin{matrix}0.52658472 & 0.43019579 & 0.04321949\\end{matrix}\\right]$"
          },
          "metadata": {}
        }
      ]
    },
    {
      "cell_type": "markdown",
      "source": [
        "Periksa distribusi stasioner (equilibrium)\n",
        "karna keadaan sudah tidak menunjukan perubahan, coba cek apakah distribusi [0.52658472, 0.43019579, 0.04321949]merupakan keadaan stabil"
      ],
      "metadata": {
        "id": "10dGHOdbZIND"
      }
    },
    {
      "cell_type": "code",
      "source": [
        "D = array([0.52658472, 0.43019579, 0.04321949])\n",
        "print(\"Distribusi D:\")\n",
        "display(Math(sym.latex(sym.simplify(D))))\n",
        "\n",
        "A = dot(D, C)\n",
        "print(\"Distribusi setelah satu langkah transisi (D x C):\")\n",
        "display(Math(sym.latex(sym.simplify(A))))"
      ],
      "metadata": {
        "colab": {
          "base_uri": "https://localhost:8080/",
          "height": 94
        },
        "id": "PuXoiYqAZzgk",
        "outputId": "ad3bbf11-97d1-4e04-a253-32763da223e8"
      },
      "execution_count": 15,
      "outputs": [
        {
          "output_type": "stream",
          "name": "stdout",
          "text": [
            "Distribusi D:\n"
          ]
        },
        {
          "output_type": "display_data",
          "data": {
            "text/plain": [
              "<IPython.core.display.Math object>"
            ],
            "text/latex": "$\\displaystyle \\left[\\begin{matrix}0.52658472 & 0.43019579 & 0.04321949\\end{matrix}\\right]$"
          },
          "metadata": {}
        },
        {
          "output_type": "stream",
          "name": "stdout",
          "text": [
            "Distribusi setelah satu langkah transisi (D x C):\n"
          ]
        },
        {
          "output_type": "display_data",
          "data": {
            "text/plain": [
              "<IPython.core.display.Math object>"
            ],
            "text/latex": "$\\displaystyle \\left[\\begin{matrix}0.52625963784 & 0.43085900063 & 0.04288136153\\end{matrix}\\right]$"
          },
          "metadata": {}
        }
      ]
    },
    {
      "cell_type": "code",
      "source": [
        "print(\"Distribusi stasioner ditemukan jika D x C = D:\")\n",
        "is_stationary = allclose(A, D)\n",
        "print(\"Apakah distribusi stasioner? \", is_stationary)"
      ],
      "metadata": {
        "colab": {
          "base_uri": "https://localhost:8080/"
        },
        "id": "JcKkvQSbaaYJ",
        "outputId": "f4703216-e88f-45d7-e390-06d7c0f6ee58"
      },
      "execution_count": 16,
      "outputs": [
        {
          "output_type": "stream",
          "name": "stdout",
          "text": [
            "Distribusi stasioner ditemukan jika D x C = D:\n",
            "Apakah distribusi stasioner?  False\n"
          ]
        }
      ]
    },
    {
      "cell_type": "markdown",
      "source": [
        "sistem menunjukan bahwa distribusi D belum mencapai titik equilibrium. namun jika dibulatkan, maka distribusi D bisa dianggap telah mencapai titik equilibrium (keadaan stabil)"
      ],
      "metadata": {
        "id": "TalUWb5cas4I"
      }
    }
  ]
}