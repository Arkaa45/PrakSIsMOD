{
  "nbformat": 4,
  "nbformat_minor": 0,
  "metadata": {
    "colab": {
      "provenance": [],
      "authorship_tag": "ABX9TyPKr8CrzTCBqiTqL3b9gOYp",
      "include_colab_link": true
    },
    "kernelspec": {
      "name": "python3",
      "display_name": "Python 3"
    },
    "language_info": {
      "name": "python"
    }
  },
  "cells": [
    {
      "cell_type": "markdown",
      "metadata": {
        "id": "view-in-github",
        "colab_type": "text"
      },
      "source": [
        "<a href=\"https://colab.research.google.com/github/Arkaa45/PrakSIsMOD/blob/main/gacha.ipynb\" target=\"_parent\"><img src=\"https://colab.research.google.com/assets/colab-badge.svg\" alt=\"Open In Colab\"/></a>"
      ]
    },
    {
      "cell_type": "markdown",
      "source": [
        "1. Mendefinisikan parameter dan Fungsi RNG dengan metode LCG"
      ],
      "metadata": {
        "id": "1vaNRAfdPqk6"
      }
    },
    {
      "cell_type": "code",
      "execution_count": 43,
      "metadata": {
        "id": "pNWGMz7nKX3D"
      },
      "outputs": [],
      "source": [
        "B6_prob = 2\n",
        "B5_prob = 8\n",
        "B4_prob = 50\n",
        "B3_prob = 40\n",
        "pity_threshold = 50\n",
        "pity_increment = 2\n",
        "total_draws = 100\n",
        "\n",
        "def generate_random_number():\n",
        "    global seed\n",
        "    seed = (seed * 1103515245 + 12345) % (2**32)\n",
        "    return (seed // 65536) % 100 + 1\n",
        "\n",
        "seed = 123456"
      ]
    },
    {
      "cell_type": "markdown",
      "source": [
        "2. Inisialisasi Variabel"
      ],
      "metadata": {
        "id": "sf7xSzl-QFPs"
      }
    },
    {
      "cell_type": "code",
      "source": [
        "\n",
        "results = []\n",
        "current_probabilities = {\"B6\": B6_prob, \"B5\": B5_prob, \"B4\": B4_prob, \"B3\": B3_prob}\n",
        "pity_counter = 0\n"
      ],
      "metadata": {
        "id": "c-p_YitfRDlo"
      },
      "execution_count": 44,
      "outputs": []
    },
    {
      "cell_type": "markdown",
      "source": [
        "3. Simulasi Gacha"
      ],
      "metadata": {
        "id": "fpMsXiQdSFRA"
      }
    },
    {
      "cell_type": "code",
      "source": [
        "for i in range(1, total_draws + 1):\n",
        "    if pity_counter >= pity_threshold:\n",
        "        current_probabilities[\"B6\"] += pity_increment\n",
        "        current_probabilities[\"B3\"] -= pity_increment\n",
        "\n",
        "    random_number = generate_random_number()\n",
        "\n",
        "    thresholds = {\n",
        "        \"B6\": current_probabilities[\"B6\"],\n",
        "        \"B5\": current_probabilities[\"B6\"] + current_probabilities[\"B5\"],\n",
        "        \"B4\": current_probabilities[\"B6\"] + current_probabilities[\"B5\"] + current_probabilities[\"B4\"]\n",
        "    }\n",
        "\n",
        "    if random_number <= thresholds[\"B6\"]:\n",
        "        result = \"B6\"\n",
        "    elif random_number <= thresholds[\"B5\"]:\n",
        "        result = \"B5\"\n",
        "    elif random_number <= thresholds[\"B4\"]:\n",
        "        result = \"B4\"\n",
        "    else:\n",
        "        result = \"B3\"\n",
        "\n",
        "    formula = f\"B6:{current_probabilities['B6']}%, B5:{current_probabilities['B5']}%, B4:{current_probabilities['B4']}%, B3:{current_probabilities['B3']}%\"\n",
        "    results.append([i, result, formula])\n",
        "\n",
        "    if result == \"B6\":\n",
        "        current_probabilities = {\"B6\": B6_prob, \"B5\": B5_prob, \"B4\": B4_prob, \"B3\": B3_prob}\n",
        "        pity_counter = 0\n",
        "    else:\n",
        "        pity_counter += 1\n"
      ],
      "metadata": {
        "id": "R-K8Y7LbSEfY"
      },
      "execution_count": 45,
      "outputs": []
    },
    {
      "cell_type": "markdown",
      "source": [
        "4. Tampilkan Output"
      ],
      "metadata": {
        "id": "fTIHXZb8TOmo"
      }
    },
    {
      "cell_type": "code",
      "source": [
        "def tampilkan_ringkasan(results):\n",
        "    count_B6 = sum(1 for row in results if row[1] == \"B6\")\n",
        "    count_B5 = sum(1 for row in results if row[1] == \"B5\")\n",
        "    count_B4 = sum(1 for row in results if row[1] == \"B4\")\n",
        "    count_B3 = sum(1 for row in results if row[1] == \"B3\")\n",
        "\n",
        "    print(\"\\nRingkasan Perolehan:\")\n",
        "    print(f\"B6: {count_B6} kali\")\n",
        "    print(f\"B5: {count_B5} kali\")\n",
        "    print(f\"B4: {count_B4} kali\")\n",
        "    print(f\"B3: {count_B3} kali\")\n",
        "\n",
        "header = f\"{'i':<5} | {'Result (Rarity)':<20} | {'Current Probabilities':<60}\"\n",
        "print(header)\n",
        "print(\"-\" * len(header))\n",
        "\n",
        "for row in results:\n",
        "    print(f\"{row[0]:<5} | {row[1]:<20} | {row[2]:<60}\")\n",
        "\n",
        "tampilkan_ringkasan(results)\n"
      ],
      "metadata": {
        "colab": {
          "base_uri": "https://localhost:8080/"
        },
        "collapsed": true,
        "id": "nKB4wNOTTWKY",
        "outputId": "f7c512a4-179c-455a-c270-c3df710a26b0"
      },
      "execution_count": 47,
      "outputs": [
        {
          "output_type": "stream",
          "name": "stdout",
          "text": [
            "i     | Result (Rarity)      | Current Probabilities                                       \n",
            "-------------------------------------------------------------------------------------------\n",
            "1     | B3                   | B6:2%, B5:8%, B4:50%, B3:40%                                \n",
            "2     | B3                   | B6:2%, B5:8%, B4:50%, B3:40%                                \n",
            "3     | B4                   | B6:2%, B5:8%, B4:50%, B3:40%                                \n",
            "4     | B3                   | B6:2%, B5:8%, B4:50%, B3:40%                                \n",
            "5     | B4                   | B6:2%, B5:8%, B4:50%, B3:40%                                \n",
            "6     | B4                   | B6:2%, B5:8%, B4:50%, B3:40%                                \n",
            "7     | B3                   | B6:2%, B5:8%, B4:50%, B3:40%                                \n",
            "8     | B4                   | B6:2%, B5:8%, B4:50%, B3:40%                                \n",
            "9     | B5                   | B6:2%, B5:8%, B4:50%, B3:40%                                \n",
            "10    | B3                   | B6:2%, B5:8%, B4:50%, B3:40%                                \n",
            "11    | B6                   | B6:2%, B5:8%, B4:50%, B3:40%                                \n",
            "12    | B3                   | B6:2%, B5:8%, B4:50%, B3:40%                                \n",
            "13    | B4                   | B6:2%, B5:8%, B4:50%, B3:40%                                \n",
            "14    | B3                   | B6:2%, B5:8%, B4:50%, B3:40%                                \n",
            "15    | B4                   | B6:2%, B5:8%, B4:50%, B3:40%                                \n",
            "16    | B4                   | B6:2%, B5:8%, B4:50%, B3:40%                                \n",
            "17    | B4                   | B6:2%, B5:8%, B4:50%, B3:40%                                \n",
            "18    | B3                   | B6:2%, B5:8%, B4:50%, B3:40%                                \n",
            "19    | B4                   | B6:2%, B5:8%, B4:50%, B3:40%                                \n",
            "20    | B3                   | B6:2%, B5:8%, B4:50%, B3:40%                                \n",
            "21    | B3                   | B6:2%, B5:8%, B4:50%, B3:40%                                \n",
            "22    | B4                   | B6:2%, B5:8%, B4:50%, B3:40%                                \n",
            "23    | B4                   | B6:2%, B5:8%, B4:50%, B3:40%                                \n",
            "24    | B3                   | B6:2%, B5:8%, B4:50%, B3:40%                                \n",
            "25    | B4                   | B6:2%, B5:8%, B4:50%, B3:40%                                \n",
            "26    | B4                   | B6:2%, B5:8%, B4:50%, B3:40%                                \n",
            "27    | B3                   | B6:2%, B5:8%, B4:50%, B3:40%                                \n",
            "28    | B3                   | B6:2%, B5:8%, B4:50%, B3:40%                                \n",
            "29    | B4                   | B6:2%, B5:8%, B4:50%, B3:40%                                \n",
            "30    | B3                   | B6:2%, B5:8%, B4:50%, B3:40%                                \n",
            "31    | B4                   | B6:2%, B5:8%, B4:50%, B3:40%                                \n",
            "32    | B4                   | B6:2%, B5:8%, B4:50%, B3:40%                                \n",
            "33    | B3                   | B6:2%, B5:8%, B4:50%, B3:40%                                \n",
            "34    | B3                   | B6:2%, B5:8%, B4:50%, B3:40%                                \n",
            "35    | B3                   | B6:2%, B5:8%, B4:50%, B3:40%                                \n",
            "36    | B4                   | B6:2%, B5:8%, B4:50%, B3:40%                                \n",
            "37    | B4                   | B6:2%, B5:8%, B4:50%, B3:40%                                \n",
            "38    | B5                   | B6:2%, B5:8%, B4:50%, B3:40%                                \n",
            "39    | B3                   | B6:2%, B5:8%, B4:50%, B3:40%                                \n",
            "40    | B4                   | B6:2%, B5:8%, B4:50%, B3:40%                                \n",
            "41    | B5                   | B6:2%, B5:8%, B4:50%, B3:40%                                \n",
            "42    | B3                   | B6:2%, B5:8%, B4:50%, B3:40%                                \n",
            "43    | B4                   | B6:2%, B5:8%, B4:50%, B3:40%                                \n",
            "44    | B5                   | B6:2%, B5:8%, B4:50%, B3:40%                                \n",
            "45    | B3                   | B6:2%, B5:8%, B4:50%, B3:40%                                \n",
            "46    | B4                   | B6:2%, B5:8%, B4:50%, B3:40%                                \n",
            "47    | B3                   | B6:2%, B5:8%, B4:50%, B3:40%                                \n",
            "48    | B4                   | B6:2%, B5:8%, B4:50%, B3:40%                                \n",
            "49    | B3                   | B6:2%, B5:8%, B4:50%, B3:40%                                \n",
            "50    | B4                   | B6:2%, B5:8%, B4:50%, B3:40%                                \n",
            "51    | B4                   | B6:2%, B5:8%, B4:50%, B3:40%                                \n",
            "52    | B4                   | B6:2%, B5:8%, B4:50%, B3:40%                                \n",
            "53    | B4                   | B6:2%, B5:8%, B4:50%, B3:40%                                \n",
            "54    | B4                   | B6:2%, B5:8%, B4:50%, B3:40%                                \n",
            "55    | B5                   | B6:2%, B5:8%, B4:50%, B3:40%                                \n",
            "56    | B3                   | B6:2%, B5:8%, B4:50%, B3:40%                                \n",
            "57    | B3                   | B6:2%, B5:8%, B4:50%, B3:40%                                \n",
            "58    | B3                   | B6:2%, B5:8%, B4:50%, B3:40%                                \n",
            "59    | B5                   | B6:2%, B5:8%, B4:50%, B3:40%                                \n",
            "60    | B4                   | B6:2%, B5:8%, B4:50%, B3:40%                                \n",
            "61    | B6                   | B6:2%, B5:8%, B4:50%, B3:40%                                \n",
            "62    | B4                   | B6:2%, B5:8%, B4:50%, B3:40%                                \n",
            "63    | B5                   | B6:2%, B5:8%, B4:50%, B3:40%                                \n",
            "64    | B4                   | B6:2%, B5:8%, B4:50%, B3:40%                                \n",
            "65    | B4                   | B6:2%, B5:8%, B4:50%, B3:40%                                \n",
            "66    | B3                   | B6:2%, B5:8%, B4:50%, B3:40%                                \n",
            "67    | B5                   | B6:2%, B5:8%, B4:50%, B3:40%                                \n",
            "68    | B3                   | B6:2%, B5:8%, B4:50%, B3:40%                                \n",
            "69    | B4                   | B6:2%, B5:8%, B4:50%, B3:40%                                \n",
            "70    | B3                   | B6:2%, B5:8%, B4:50%, B3:40%                                \n",
            "71    | B5                   | B6:2%, B5:8%, B4:50%, B3:40%                                \n",
            "72    | B4                   | B6:2%, B5:8%, B4:50%, B3:40%                                \n",
            "73    | B3                   | B6:2%, B5:8%, B4:50%, B3:40%                                \n",
            "74    | B3                   | B6:2%, B5:8%, B4:50%, B3:40%                                \n",
            "75    | B4                   | B6:2%, B5:8%, B4:50%, B3:40%                                \n",
            "76    | B4                   | B6:2%, B5:8%, B4:50%, B3:40%                                \n",
            "77    | B3                   | B6:2%, B5:8%, B4:50%, B3:40%                                \n",
            "78    | B4                   | B6:2%, B5:8%, B4:50%, B3:40%                                \n",
            "79    | B4                   | B6:2%, B5:8%, B4:50%, B3:40%                                \n",
            "80    | B4                   | B6:2%, B5:8%, B4:50%, B3:40%                                \n",
            "81    | B6                   | B6:2%, B5:8%, B4:50%, B3:40%                                \n",
            "82    | B4                   | B6:2%, B5:8%, B4:50%, B3:40%                                \n",
            "83    | B3                   | B6:2%, B5:8%, B4:50%, B3:40%                                \n",
            "84    | B3                   | B6:2%, B5:8%, B4:50%, B3:40%                                \n",
            "85    | B3                   | B6:2%, B5:8%, B4:50%, B3:40%                                \n",
            "86    | B4                   | B6:2%, B5:8%, B4:50%, B3:40%                                \n",
            "87    | B4                   | B6:2%, B5:8%, B4:50%, B3:40%                                \n",
            "88    | B3                   | B6:2%, B5:8%, B4:50%, B3:40%                                \n",
            "89    | B4                   | B6:2%, B5:8%, B4:50%, B3:40%                                \n",
            "90    | B5                   | B6:2%, B5:8%, B4:50%, B3:40%                                \n",
            "91    | B3                   | B6:2%, B5:8%, B4:50%, B3:40%                                \n",
            "92    | B3                   | B6:2%, B5:8%, B4:50%, B3:40%                                \n",
            "93    | B4                   | B6:2%, B5:8%, B4:50%, B3:40%                                \n",
            "94    | B3                   | B6:2%, B5:8%, B4:50%, B3:40%                                \n",
            "95    | B3                   | B6:2%, B5:8%, B4:50%, B3:40%                                \n",
            "96    | B3                   | B6:2%, B5:8%, B4:50%, B3:40%                                \n",
            "97    | B3                   | B6:2%, B5:8%, B4:50%, B3:40%                                \n",
            "98    | B3                   | B6:2%, B5:8%, B4:50%, B3:40%                                \n",
            "99    | B4                   | B6:2%, B5:8%, B4:50%, B3:40%                                \n",
            "100   | B5                   | B6:2%, B5:8%, B4:50%, B3:40%                                \n",
            "\n",
            "Ringkasan Perolehan:\n",
            "B6: 3 kali\n",
            "B5: 11 kali\n",
            "B4: 44 kali\n",
            "B3: 42 kali\n"
          ]
        }
      ]
    }
  ]
}